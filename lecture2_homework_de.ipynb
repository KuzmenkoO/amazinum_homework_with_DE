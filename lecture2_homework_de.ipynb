{
  "nbformat": 4,
  "nbformat_minor": 0,
  "metadata": {
    "colab": {
      "provenance": [],
      "authorship_tag": "ABX9TyN0JmRWJeOmdhWZ9BNkIVkV",
      "include_colab_link": true
    },
    "kernelspec": {
      "name": "python3",
      "display_name": "Python 3"
    },
    "language_info": {
      "name": "python"
    }
  },
  "cells": [
    {
      "cell_type": "markdown",
      "metadata": {
        "id": "view-in-github",
        "colab_type": "text"
      },
      "source": [
        "<a href=\"https://colab.research.google.com/github/KuzmenkoO/amazinum_homework_with_DE/blob/main/lecture2_homework_de.ipynb\" target=\"_parent\"><img src=\"https://colab.research.google.com/assets/colab-badge.svg\" alt=\"Open In Colab\"/></a>"
      ]
    },
    {
      "cell_type": "markdown",
      "source": [
        "**Task 1**"
      ],
      "metadata": {
        "id": "GFYVN-j72pdx"
      }
    },
    {
      "cell_type": "code",
      "execution_count": 1,
      "metadata": {
        "colab": {
          "base_uri": "https://localhost:8080/"
        },
        "id": "WduAnb2X2ir6",
        "outputId": "94f18e9a-af9d-431a-9db6-1015c5396582"
      },
      "outputs": [
        {
          "output_type": "stream",
          "name": "stdout",
          "text": [
            "Received a new number: 1\n",
            "1 is a positive number\n",
            "Bye!\n",
            "Received a new number: -1\n",
            "-1 is a negative number\n",
            "Bye!\n",
            "Received a new number: 0\n",
            "Zero\n",
            "Bye!\n"
          ]
        }
      ],
      "source": [
        "def new_number(number):\n",
        "    print(\"Received a new number: {}\".format(number))\n",
        "\n",
        "\n",
        "def is_positive(number):\n",
        "    if number > 0:\n",
        "        print(\"{} is a positive number\".format(number))\n",
        "    elif number == 0:\n",
        "        print(\"Zero\")\n",
        "    else:\n",
        "        print(\"{} is a negative number\".format(number))\n",
        "\n",
        "\n",
        "def print_bye(number):\n",
        "    print(\"Bye!\")\n",
        "\n",
        "\n",
        "def numbers_handler(list_of_numbers=[1, -1, 0], before=new_number, action=is_positive, after=print_bye):\n",
        "    for i in list_of_numbers:\n",
        "        before(i)\n",
        "        action(i)\n",
        "        after(i)\n",
        "\n",
        "\n",
        "numbers_handler()\n"
      ]
    },
    {
      "cell_type": "code",
      "source": [
        "def print_hello(number):\n",
        "    print(\"Hello!\")\n",
        "\n",
        "\n",
        "def some_action(number):\n",
        "    print(\"Action!\")\n",
        "\n",
        "\n",
        "numbers_handler([10], action=some_action, before=print_hello)"
      ],
      "metadata": {
        "colab": {
          "base_uri": "https://localhost:8080/"
        },
        "id": "EyWKdgy524BG",
        "outputId": "ee0bfbe3-01ca-452b-e91d-f340097bfda1"
      },
      "execution_count": 2,
      "outputs": [
        {
          "output_type": "stream",
          "name": "stdout",
          "text": [
            "Hello!\n",
            "Action!\n",
            "Bye!\n"
          ]
        }
      ]
    },
    {
      "cell_type": "markdown",
      "source": [
        "________________________________________________________________________________________________________________________________________________________________\n",
        "**Task 2**"
      ],
      "metadata": {
        "id": "zX2hHeZm3EQl"
      }
    },
    {
      "cell_type": "code",
      "source": [
        "def get_average_mark(student_name, *args):\n",
        "    count = 0\n",
        "    sum_mark = 0\n",
        "\n",
        "    for mark in args:\n",
        "        sum_mark += mark\n",
        "        count += 1\n",
        "    student_mark = sum_mark / count\n",
        "\n",
        "    print(\"{} got {}\".format(student_name, round(student_mark)))\n",
        "\n",
        "\n",
        "get_average_mark(\"Danylo\", 11)\n",
        "get_average_mark(\"Oleksii\", 12, 10, 11, 11, 11)\n",
        "get_average_mark(\"Ivan\", 10, 11, 12, 9, 12, 12)"
      ],
      "metadata": {
        "colab": {
          "base_uri": "https://localhost:8080/"
        },
        "id": "JAo4OZcy3ecJ",
        "outputId": "1b6b0c4e-a1d2-4f82-9c88-44b1ae3e7f6a"
      },
      "execution_count": 3,
      "outputs": [
        {
          "output_type": "stream",
          "name": "stdout",
          "text": [
            "Danylo got 11\n",
            "Oleksii got 11\n",
            "Ivan got 11\n"
          ]
        }
      ]
    },
    {
      "cell_type": "markdown",
      "source": [
        "\n",
        "\n",
        "**Task 3**"
      ],
      "metadata": {
        "id": "sgJgNw9t3t-j"
      }
    },
    {
      "cell_type": "code",
      "source": [
        "def message_people(names_people):\n",
        "    def print_message(message):\n",
        "        names = \", \".join(names_people)\n",
        "        match message:\n",
        "            case \"hello\":\n",
        "                print(\"Hello, {}, nice to see you!\".format(names))\n",
        "            case \"meeting\":\n",
        "                print(\"{}, we have a meeting in an hour, don't be late!\".format(names))\n",
        "            case \"Bye\":\n",
        "                print(\"Bye {}, see you tomorrow!\".format(names))\n",
        "            case _ :\n",
        "                print(\"Can you enter anather text?\")\n",
        "    return print_message\n",
        "\n",
        "\n",
        "mes_people = message_people([\"Alex\", \"Robert\", \"Tom\"])\n"
      ],
      "metadata": {
        "id": "1nab5DXl4CLS"
      },
      "execution_count": 4,
      "outputs": []
    },
    {
      "cell_type": "code",
      "source": [
        "mes_people('hello')\n"
      ],
      "metadata": {
        "colab": {
          "base_uri": "https://localhost:8080/"
        },
        "id": "FExahTYf4LOM",
        "outputId": "38fec1eb-3458-4dd4-b79e-a226d79dd5da"
      },
      "execution_count": 5,
      "outputs": [
        {
          "output_type": "stream",
          "name": "stdout",
          "text": [
            "Hello, Alex, Robert, Tom, nice to see you!\n"
          ]
        }
      ]
    },
    {
      "cell_type": "code",
      "source": [
        "mes_people('meeting')\n"
      ],
      "metadata": {
        "colab": {
          "base_uri": "https://localhost:8080/"
        },
        "id": "ftwqkJXS4Ncy",
        "outputId": "0b0a737b-af20-4295-ba90-a38b52a340bf"
      },
      "execution_count": 6,
      "outputs": [
        {
          "output_type": "stream",
          "name": "stdout",
          "text": [
            "Alex, Robert, Tom, we have a meeting in an hour, don't be late!\n"
          ]
        }
      ]
    },
    {
      "cell_type": "code",
      "source": [
        "mes_people('Bye')"
      ],
      "metadata": {
        "colab": {
          "base_uri": "https://localhost:8080/"
        },
        "id": "etwF63wF4PYa",
        "outputId": "8ed8ec05-38fb-42f7-edaf-7aaecf3a856f"
      },
      "execution_count": 7,
      "outputs": [
        {
          "output_type": "stream",
          "name": "stdout",
          "text": [
            "Bye Alex, Robert, Tom, see you tomorrow!\n"
          ]
        }
      ]
    },
    {
      "cell_type": "markdown",
      "source": [
        "**Task 4**"
      ],
      "metadata": {
        "id": "VXxvJGOD4YiK"
      }
    },
    {
      "cell_type": "code",
      "source": [
        "def fibonacci_generator(number):\n",
        "    first_element, next_element = 0, 1\n",
        "    for i in range(number):\n",
        "        if i == 0:\n",
        "            yield \"0\"\n",
        "        elif i == 1:\n",
        "            yield \"1\"\n",
        "        else:\n",
        "            yield f\"{first_element + next_element} ({first_element} + {next_element})\"\n",
        "            first_element, next_element = next_element, next_element + first_element\n"
      ],
      "metadata": {
        "id": "x7v0acCF4fHZ"
      },
      "execution_count": 8,
      "outputs": []
    },
    {
      "cell_type": "code",
      "source": [
        "fib_generator = fibonacci_generator(6)\n",
        "for fib_number in fib_generator:\n",
        "    print(fib_number)"
      ],
      "metadata": {
        "colab": {
          "base_uri": "https://localhost:8080/"
        },
        "id": "vBk844k34m9Z",
        "outputId": "a82701ed-7c9a-4d2a-c835-3e418284de46"
      },
      "execution_count": 9,
      "outputs": [
        {
          "output_type": "stream",
          "name": "stdout",
          "text": [
            "0\n",
            "1\n",
            "1 (0 + 1)\n",
            "2 (1 + 1)\n",
            "3 (1 + 2)\n",
            "5 (2 + 3)\n"
          ]
        }
      ]
    },
    {
      "cell_type": "markdown",
      "source": [
        "**Task 5**"
      ],
      "metadata": {
        "id": "VHTZXEPq4slV"
      }
    },
    {
      "cell_type": "code",
      "source": [
        "class Person:\n",
        "    people = {}\n",
        "\n",
        "    def __init__(self, name, age):\n",
        "        self.name = name\n",
        "        self.age = age\n",
        "        Person.people[name] = self\n",
        "\n",
        "\n",
        "def create_person_list(people):\n",
        "    person_list = []\n",
        "\n",
        "    for element in people:\n",
        "        person = Person(element[\"name\"], element[\"age\"])\n",
        "        person_list.append(person)\n",
        "\n",
        "    for element in people:\n",
        "        person = Person.people[element[\"name\"]]\n",
        "        if \"wife\" in element and element[\"wife\"] is not None:\n",
        "            person.wife = Person.people[element[\"wife\"]]\n",
        "        if \"husband\" in element and element[\"husband\"] is not None:\n",
        "            person.husband = Person.people[element[\"husband\"]]\n",
        "\n",
        "    return person_list"
      ],
      "metadata": {
        "id": "8FNREqOn40Y_"
      },
      "execution_count": 10,
      "outputs": []
    },
    {
      "cell_type": "code",
      "source": [
        "people = [\n",
        "    {'name': 'Ross', 'age': 30, 'wife': 'Rachel'},\n",
        "    {'name': 'Joey', 'age': 29, 'wife': None},\n",
        "    {'name': 'Rachel', 'age': 28, 'husband': 'Ross'}\n",
        "]\n",
        "\n",
        "person_list = create_person_list(people)\n",
        "isinstance(person_list[0], Person)  # True\n"
      ],
      "metadata": {
        "colab": {
          "base_uri": "https://localhost:8080/"
        },
        "id": "dGTPpKne5LwD",
        "outputId": "6cb85b84-cc14-4d81-ee2f-89a729ba313b"
      },
      "execution_count": 11,
      "outputs": [
        {
          "output_type": "execute_result",
          "data": {
            "text/plain": [
              "True"
            ]
          },
          "metadata": {},
          "execution_count": 11
        }
      ]
    },
    {
      "cell_type": "code",
      "source": [
        "person_list[0].name == 'Ross'\n",
        "person_list[0].wife is person_list[2]  # True\n",
        "person_list[0].wife.name == 'Rachel'"
      ],
      "metadata": {
        "colab": {
          "base_uri": "https://localhost:8080/"
        },
        "id": "ZL0OJZOt5eqk",
        "outputId": "696575eb-c3b2-459b-eac4-e78e9594cd63"
      },
      "execution_count": 12,
      "outputs": [
        {
          "output_type": "execute_result",
          "data": {
            "text/plain": [
              "True"
            ]
          },
          "metadata": {},
          "execution_count": 12
        }
      ]
    },
    {
      "cell_type": "code",
      "source": [
        "person_list[1].name == 'Joey'\n",
        "person_list[1].wife"
      ],
      "metadata": {
        "colab": {
          "base_uri": "https://localhost:8080/",
          "height": 166
        },
        "id": "U9-DEmgW5m5M",
        "outputId": "cdf2f1bb-1f7d-4eb9-ac04-a3ed785a68fd"
      },
      "execution_count": 13,
      "outputs": [
        {
          "output_type": "error",
          "ename": "AttributeError",
          "evalue": "'Person' object has no attribute 'wife'",
          "traceback": [
            "\u001b[0;31m---------------------------------------------------------------------------\u001b[0m",
            "\u001b[0;31mAttributeError\u001b[0m                            Traceback (most recent call last)",
            "\u001b[0;32m/tmp/ipython-input-4262577136.py\u001b[0m in \u001b[0;36m<cell line: 0>\u001b[0;34m()\u001b[0m\n\u001b[1;32m      1\u001b[0m \u001b[0mperson_list\u001b[0m\u001b[0;34m[\u001b[0m\u001b[0;36m1\u001b[0m\u001b[0;34m]\u001b[0m\u001b[0;34m.\u001b[0m\u001b[0mname\u001b[0m \u001b[0;34m==\u001b[0m \u001b[0;34m'Joey'\u001b[0m\u001b[0;34m\u001b[0m\u001b[0;34m\u001b[0m\u001b[0m\n\u001b[0;32m----> 2\u001b[0;31m \u001b[0mperson_list\u001b[0m\u001b[0;34m[\u001b[0m\u001b[0;36m1\u001b[0m\u001b[0;34m]\u001b[0m\u001b[0;34m.\u001b[0m\u001b[0mwife\u001b[0m\u001b[0;34m\u001b[0m\u001b[0;34m\u001b[0m\u001b[0m\n\u001b[0m",
            "\u001b[0;31mAttributeError\u001b[0m: 'Person' object has no attribute 'wife'"
          ]
        }
      ]
    },
    {
      "cell_type": "code",
      "source": [
        "isinstance(person_list[2], Person)  # True\n"
      ],
      "metadata": {
        "colab": {
          "base_uri": "https://localhost:8080/"
        },
        "id": "fgUiN3SM50xZ",
        "outputId": "ada9ebb9-fffb-41ad-971d-6e77fa1b1a35"
      },
      "execution_count": 15,
      "outputs": [
        {
          "output_type": "execute_result",
          "data": {
            "text/plain": [
              "True"
            ]
          },
          "metadata": {},
          "execution_count": 15
        }
      ]
    },
    {
      "cell_type": "code",
      "source": [
        "person_list[2].name == 'Rachel'\n",
        "person_list[2].husband is person_list[0]  # True\n",
        "# The same as person_list[0]\n"
      ],
      "metadata": {
        "colab": {
          "base_uri": "https://localhost:8080/"
        },
        "id": "RCL3VkEE57Vd",
        "outputId": "fe57bc6e-8599-43cd-a47c-a8a68f24d094"
      },
      "execution_count": 16,
      "outputs": [
        {
          "output_type": "execute_result",
          "data": {
            "text/plain": [
              "True"
            ]
          },
          "metadata": {},
          "execution_count": 16
        }
      ]
    },
    {
      "cell_type": "code",
      "source": [
        "person_list[2].husband.name == 'Ross'\n",
        "person_list[2].husband.wife is person_list[2]  # True"
      ],
      "metadata": {
        "colab": {
          "base_uri": "https://localhost:8080/"
        },
        "id": "k8523MfR6G_6",
        "outputId": "3494415c-44d8-49f3-842e-e3664ccb2a41"
      },
      "execution_count": 17,
      "outputs": [
        {
          "output_type": "execute_result",
          "data": {
            "text/plain": [
              "True"
            ]
          },
          "metadata": {},
          "execution_count": 17
        }
      ]
    }
  ]
}